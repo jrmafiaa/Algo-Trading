{
  "nbformat": 4,
  "nbformat_minor": 0,
  "metadata": {
    "colab": {
      "name": "New code.ipynb",
      "provenance": [],
      "toc_visible": true
    },
    "kernelspec": {
      "name": "python3",
      "display_name": "Python 3"
    }
  },
  "cells": [
    {
      "cell_type": "markdown",
      "metadata": {
        "id": "y5GjpFHmWkiJ"
      },
      "source": [
        "# Import of needed libraries"
      ]
    },
    {
      "cell_type": "code",
      "metadata": {
        "id": "xotcgHJIPE6h"
      },
      "source": [
        "#import libraries\n",
        "import datetime\n",
        "import pandas_datareader as pdr\n",
        "import pandas as pd\n",
        "import numpy as np\n",
        "import matplotlib.pyplot as pl"
      ],
      "execution_count": 7,
      "outputs": []
    },
    {
      "cell_type": "markdown",
      "metadata": {
        "id": "lucCBP4wWdlG"
      },
      "source": [
        "# Define Stocks and Dates"
      ]
    },
    {
      "cell_type": "code",
      "metadata": {
        "id": "J0qXOJ5dXJG_"
      },
      "source": [
        "stocks = [\"BNTX\", \"AAPL\", \"TSLA\"]\n",
        "s_1 = stocks[0]\n",
        "s_2 = stocks[1]\n",
        "s_3 = stocks[2]\n",
        "\n",
        "\n",
        "end = datetime.datetime.today()\n",
        "date200 = datetime.timedelta(days=365)\n",
        "start200 = end - date200\n",
        "start = start200.strftime(\"%Y-%m-%d\")\n",
        "data = pdr.DataReader(stocks, 'yahoo', start, end)"
      ],
      "execution_count": 8,
      "outputs": []
    },
    {
      "cell_type": "markdown",
      "metadata": {
        "id": "FB6mr0eHW7hw"
      },
      "source": [
        "# Trading strategy "
      ]
    },
    {
      "cell_type": "code",
      "metadata": {
        "colab": {
          "base_uri": "https://localhost:8080/"
        },
        "id": "eUwKHZhkW33g",
        "outputId": "288522a3-25b2-4efc-83b5-5ee0d417a96b"
      },
      "source": [
        "short_window = 20\n",
        "long_window = 100\n",
        "signals = pd.DataFrame(index=data.index)\n",
        "signals['signal1'] = 0.0\n",
        "signals['signal2'] = 0.0\n",
        "signals['signal3'] = 0.0\n",
        "# calculate short and long mvag\n",
        "signals['short_mavg1'] = data['Close'][stocks[0]].rolling(window=short_window, min_periods=1, center=False).mean()\n",
        "signals['short_mavg2'] = data['Close'][stocks[1]].rolling(window=short_window, min_periods=1, center=False).mean()\n",
        "signals['short_mavg3'] = data['Close'][stocks[2]].rolling(window=short_window, min_periods=1, center=False).mean()\n",
        "signals['long_mavg1'] = data['Close'][stocks[0]].rolling(window=long_window, min_periods=1, center=False).mean()\n",
        "signals['long_mavg2'] = data['Close'][stocks[1]].rolling(window=long_window, min_periods=1, center=False).mean()\n",
        "signals['long_mavg3'] = data['Close'][stocks[2]].rolling(window=long_window, min_periods=1, center=False).mean()\n",
        "# Create signals where shortmavg is > longmavg\n",
        "signals['signal1'][short_window:] = np.where(signals['short_mavg1'][short_window:]\n",
        "                                            > signals['long_mavg1'][short_window:], 1.0, 0.0)\n",
        "signals['signal2'][short_window:] = np.where(signals['short_mavg2'][short_window:]\n",
        "                                            > signals['long_mavg2'][short_window:], 1.0, 0.0)\n",
        "signals['signal3'][short_window:] = np.where(signals['short_mavg3'][short_window:]\n",
        "                                            > signals['long_mavg3'][short_window:], 1.0, 0.0)\n",
        "# Generate trading orders\n",
        "signals['positions1'] = signals['signal1'].diff()\n",
        "signals['positions2'] = signals['signal2'].diff()\n",
        "signals['positions3'] = signals['signal3'].diff()\n",
        "\n",
        "print(signals)\n",
        "print(signals.info())\n"
      ],
      "execution_count": 9,
      "outputs": [
        {
          "output_type": "stream",
          "text": [
            "            signal1  signal2  signal3  ...  positions1  positions2  positions3\n",
            "Date                                   ...                                    \n",
            "2019-12-18      0.0      0.0      0.0  ...         NaN         NaN         NaN\n",
            "2019-12-19      0.0      0.0      0.0  ...         0.0         0.0         0.0\n",
            "2019-12-20      0.0      0.0      0.0  ...         0.0         0.0         0.0\n",
            "2019-12-23      0.0      0.0      0.0  ...         0.0         0.0         0.0\n",
            "2019-12-24      0.0      0.0      0.0  ...         0.0         0.0         0.0\n",
            "...             ...      ...      ...  ...         ...         ...         ...\n",
            "2020-12-11      1.0      1.0      1.0  ...         0.0         0.0         0.0\n",
            "2020-12-14      1.0      1.0      1.0  ...         0.0         0.0         0.0\n",
            "2020-12-15      1.0      1.0      1.0  ...         0.0         0.0         0.0\n",
            "2020-12-16      1.0      1.0      1.0  ...         0.0         0.0         0.0\n",
            "2020-12-17      1.0      1.0      1.0  ...         0.0         0.0         0.0\n",
            "\n",
            "[253 rows x 12 columns]\n",
            "<class 'pandas.core.frame.DataFrame'>\n",
            "DatetimeIndex: 253 entries, 2019-12-18 to 2020-12-17\n",
            "Data columns (total 12 columns):\n",
            " #   Column       Non-Null Count  Dtype  \n",
            "---  ------       --------------  -----  \n",
            " 0   signal1      253 non-null    float64\n",
            " 1   signal2      253 non-null    float64\n",
            " 2   signal3      253 non-null    float64\n",
            " 3   short_mavg1  253 non-null    float64\n",
            " 4   short_mavg2  253 non-null    float64\n",
            " 5   short_mavg3  253 non-null    float64\n",
            " 6   long_mavg1   253 non-null    float64\n",
            " 7   long_mavg2   253 non-null    float64\n",
            " 8   long_mavg3   253 non-null    float64\n",
            " 9   positions1   252 non-null    float64\n",
            " 10  positions2   252 non-null    float64\n",
            " 11  positions3   252 non-null    float64\n",
            "dtypes: float64(12)\n",
            "memory usage: 25.7 KB\n",
            "None\n"
          ],
          "name": "stdout"
        }
      ]
    },
    {
      "cell_type": "markdown",
      "metadata": {
        "id": "C3mgCWkPXZ8r"
      },
      "source": [
        "# Trading in virtual Portfolio "
      ]
    },
    {
      "cell_type": "code",
      "metadata": {
        "id": "64U33RMNXf80"
      },
      "source": [
        "# backtester\n",
        "# Set the initial capital\n",
        "initial_capital = float(500000.0)\n",
        "\n",
        "# Create a DataFrame `positions`\n",
        "positions = pd.DataFrame(index=signals.index).fillna(0.0)\n",
        "\n",
        "# Buy a 100 shares\n",
        "positions['stock'] = 100 * signals['signal1'] + 100 * signals['signal2'] + 100 * signals['signal3']\n",
        "\n",
        "\n",
        "# Initialize the portfolio with value owned\n",
        "portfolio = positions.multiply(data['Adj Close'][stocks[0]], axis=0)\n",
        "portfolio = positions.multiply(data['Adj Close'][stocks[1]], axis=0)\n",
        "portfolio = positions.multiply(data['Adj Close'][stocks[2]], axis=0)\n",
        "\n",
        "# Store the difference in shares owned\n",
        "pos_diff = positions.diff()\n",
        "\n",
        "# Add `holdings` to portfolio\n",
        "portfolio['Holdings - Stock 1'] = (positions.multiply(data['Adj Close'][stocks[0]], axis=0)).sum(axis=1)\n",
        "portfolio['Holdings - Stock 2'] = (positions.multiply(data['Adj Close'][stocks[1]], axis=0)).sum(axis=1)\n",
        "portfolio['Holdings - Stock 3'] = (positions.multiply(data['Adj Close'][stocks[2]], axis=0)).sum(axis=1)\n",
        "portfolio['Total Holdings'] = portfolio['Holdings - Stock 1'] + portfolio['Holdings - Stock 2'] + portfolio['Holdings - Stock 3']\n",
        "# Add `cash` to portfolio\n",
        "portfolio['cash'] = initial_capital - (pos_diff.multiply(data['Adj Close'][stocks[0]], axis=0)).sum(axis=1).cumsum()\\\n",
        "                    -(pos_diff.multiply(data['Adj Close'][stocks[1]], axis=0)).sum(axis=1).cumsum()\\\n",
        "                    -(pos_diff.multiply(data['Adj Close'][stocks[2]], axis=0)).sum(axis=1).cumsum()\n",
        "# Add `total` to portfolio\n",
        "portfolio['total'] = portfolio['cash'] + portfolio['Total Holdings']\n",
        "# Add `returns` to portfolio\n",
        "portfolio['returns'] = portfolio['total'].pct_change()"
      ],
      "execution_count": 10,
      "outputs": []
    },
    {
      "cell_type": "markdown",
      "metadata": {
        "id": "5xqoXLSRXlr6"
      },
      "source": [
        "# Plot Portfolio"
      ]
    },
    {
      "cell_type": "code",
      "metadata": {
        "colab": {
          "base_uri": "https://localhost:8080/",
          "height": 293
        },
        "id": "M5IanFxaXn59",
        "outputId": "983dae00-3e3c-4c4c-8ad4-0a905372eab6"
      },
      "source": [
        "# plot portfolio overview\n",
        "fig = plt.figure()\n",
        "ax1 = fig.add_subplot(111, ylabel='Portfolio value in $')\n",
        "# Plot the equity curve in dollars\n",
        "portfolio['total'].plot(ax=ax1, lw=2.)\n",
        "# Plot the \"buy\" trades against the equity curve - Stock 1\n",
        "ax1.plot(portfolio.loc[signals.positions1 == 1.0].index,\n",
        "        portfolio.total[signals.positions1 == 1.0],\n",
        "        '^', markersize=10, color='k')\n",
        "# Plot the \"sell\" trades against the equity curve - Stock 1\n",
        "ax1.plot(portfolio.loc[signals.positions1 == -1.0].index,\n",
        "        portfolio.total[signals.positions1 == -1.0],\n",
        "        'v', markersize=10, color='k')\n",
        "# Plot the \"buy\" trades against the equity curve - Stock 2\n",
        "ax1.plot(portfolio.loc[signals.positions2 == 1.0].index,\n",
        "        portfolio.total[signals.positions2 == 1.0],\n",
        "        '^', markersize=10, color='m')\n",
        "# Plot the \"sell\" trades against the equity curve - Stock 2\n",
        "ax1.plot(portfolio.loc[signals.positions2 == -1.0].index,\n",
        "        portfolio.total[signals.positions2 == -1.0],\n",
        "        'v', markersize=10, color='m')\n",
        "# Plot the \"buy\" trades against the equity curve - Stock 2\n",
        "ax1.plot(portfolio.loc[signals.positions3 == 1.0].index,\n",
        "        portfolio.total[signals.positions3 == 1.0],\n",
        "        '^', markersize=10, color='c')\n",
        "# Plot the \"sell\" trades against the equity curve - Stock 2\n",
        "ax1.plot(portfolio.loc[signals.positions1 == -1.0].index,\n",
        "        portfolio.total[signals.positions1 == -1.0],\n",
        "        'v', markersize=10, color='c')\n",
        "plt.title(\"Total Portfolio w/ buy and sell signals\")\n",
        "plt.legend(('Portfolio Value', \"Buy: %s\" %s_1 ,'Sell: %s' %s_1,'Buy: %s'\n",
        "            %s_2,'Sell: %s' %s_2, 'Buy: %s' %s_3,'Sell: %s' %s_3), fontsize=\"small\")\n",
        "plt.show()"
      ],
      "execution_count": 11,
      "outputs": [
        {
          "output_type": "display_data",
          "data": {
            "image/png": "[encoded data removed]",
            "text/plain": [
              "<Figure size 432x288 with 1 Axes>"
            ]
          },
          "metadata": {
            "tags": [],
            "needs_background": "light"
          }
        }
      ]
    }
  ]
}