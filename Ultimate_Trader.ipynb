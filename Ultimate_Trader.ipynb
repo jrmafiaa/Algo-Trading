{
  "nbformat": 4,
  "nbformat_minor": 0,
  "metadata": {
    "colab": {
      "name": "Ultimate Trader.ipynb",
      "provenance": [],
      "collapsed_sections": []
    },
    "kernelspec": {
      "name": "python3",
      "display_name": "Python 3"
    }
  },
  "cells": [
    {
      "cell_type": "markdown",
      "metadata": {
        "id": "k_YfWPxr1NYy"
      },
      "source": [
        "# Collecting Data "
      ]
    },
    {
      "cell_type": "code",
      "metadata": {
        "colab": {
          "base_uri": "https://localhost:8080/",
          "height": 311
        },
        "id": "yx9RizgxC1B1",
        "outputId": "5ba41884-bd1c-4f3b-9b1a-f9ba42f20c17"
      },
      "source": [
        "# import all necessary libraries\n",
        "import pandas as pd\n",
        "import numpy as np\n",
        "import datetime\n",
        "import matplotlib.pyplot as plt\n",
        "from pandas_datareader import data as pdr\n",
        "\n",
        "\n",
        "def get_data():\n",
        "    end = datetime.datetime.today()\n",
        "    date200 = datetime.timedelta(days=365)\n",
        "    start200 = end - date200\n",
        "    start = start200.strftime(\"%Y-%m-%d\")\n",
        "    ticker = str(input(\"Please enter your ticker symbol: \"))\n",
        "    ticker_data = pdr.DataReader(ticker, 'yahoo', start, end)\n",
        "    return ticker_data\n",
        "\n",
        "\n",
        "def mavg_strategy(data):\n",
        "    short_window = 40\n",
        "    long_window = 100\n",
        "    signals = pd.DataFrame(index=data.index)\n",
        "    signals['signal'] = 0.0\n",
        "    # calculate short and long mvag\n",
        "    signals['short_mavg'] = data['Close'].rolling(window=short_window, min_periods=1, center=False).mean()\n",
        "    signals['long_mavg'] = data['Close'].rolling(window=long_window, min_periods=1, center=False).mean()\n",
        "    # Create signals where shortmavg is > longmavg\n",
        "    signals['signal'][short_window:] = np.where(signals['short_mavg'][short_window:]\n",
        "                                                > signals['long_mavg'][short_window:], 1.0, 0.0)\n",
        "    # Generate trading orders\n",
        "    signals['positions'] = signals['signal'].diff()\n",
        "    return signals\n",
        "\n",
        "\n",
        "def plot_ticker(ticker, signals):\n",
        "    fig = plt.figure()\n",
        "    # Add a subplot and label for y-axis\n",
        "    ax1 = fig.add_subplot(111, ylabel='Price in $')\n",
        "    # Plot the closing price\n",
        "    ticker['Close'].plot(ax=ax1, color='r', lw=2.)\n",
        "    # Plot the short and long moving averages\n",
        "    signals[['short_mavg', 'long_mavg']].plot(ax=ax1, lw=2.)\n",
        "    # Plot buy signals\n",
        "    ax1.plot(signals.loc[signals.positions == 1.0].index,\n",
        "             signals.short_mavg[signals.positions == 1.0],\n",
        "             '^', markersize=10, color='m')\n",
        "    # Plot the sell signals\n",
        "    ax1.plot(signals.loc[signals.positions == -1.0].index,\n",
        "             signals.short_mavg[signals.positions == -1.0],\n",
        "             'v', markersize=10, color='k')\n",
        "    plt.show()\n",
        "\n",
        "\n",
        "def buy_or_sell():\n",
        "    data = get_data()\n",
        "    signals = mavg_strategy(data)\n",
        "    plot_ticker(data, signals)\n",
        "    if signals[\"signal\"][-1] == 1.0:\n",
        "        print(\"BUY\")\n",
        "    else:\n",
        "        print(\"SELL\")\n",
        "\n",
        "\n",
        "buy_or_sell()\n"
      ],
      "execution_count": null,
      "outputs": [
        {
          "output_type": "stream",
          "text": [
            "Please enter your ticker symbol: IBM\n"
          ],
          "name": "stdout"
        },
        {
          "output_type": "display_data",
          "data": {
            "image/png": "[encoded data removed]",
            "text/plain": [
              "<Figure size 432x288 with 1 Axes>"
            ]
          },
          "metadata": {
            "tags": [],
            "needs_background": "light"
          }
        },
        {
          "output_type": "stream",
          "text": [
            "SELL\n"
          ],
          "name": "stdout"
        }
      ]
    },
    {
      "cell_type": "markdown",
      "metadata": {
        "id": "qfBsC2W_1B6E"
      },
      "source": [
        "\n",
        "\n",
        "\n",
        "# Buy and Sell Desistions"
      ]
    },
    {
      "cell_type": "code",
      "metadata": {
        "colab": {
          "base_uri": "https://localhost:8080/"
        },
        "id": "CrxPV6-6Depf",
        "outputId": "d0443412-0180-413f-fb4f-29d1981c9726"
      },
      "source": [
        "stocks = [\"MSFT\", \"AAPL\", \"MMM\", \"AXP\", \"AMGN\", \"BA\", \"CAT\", \"CVX\", \"CSCO\", \"KO\", \"GS\",\n",
        "          \"HD\", \"HON\", \"IBM\", \"INTC\", \"JNJ\", \"JPM\", \"MCD\", \"MRK\", \"NKE\", \"PG\", \"CRM\",\n",
        "          \"TRV\", \"UNH\", \"VZ\", \"V\", \"WBA\", \"WMT\", \"DIS\"]\n",
        "\n",
        "def get_data(ticker):\n",
        "    end = datetime.datetime.today()\n",
        "    date200 = datetime.timedelta(days=100)\n",
        "    start200 = end - date200\n",
        "    start = start200.strftime(\"%Y-%m-%d\")\n",
        "    ticker_data = pdr.DataReader(ticker, 'yahoo', start, end)\n",
        "    return ticker_data\n",
        "\n",
        "\n",
        "def buy_or_sell(stock):\n",
        "    BUY = \"BUY\"\n",
        "    SELL = \"SELL\"\n",
        "    data = get_data(stock)\n",
        "    signals = mavg_strategy(data)\n",
        "    if signals[\"signal\"][-1] == 1.0:\n",
        "        return BUY\n",
        "    else:\n",
        "        return SELL\n",
        "\n",
        "ratings = []\n",
        "c\n",
        "\n",
        "\n",
        "lists = zip(stocks, ratings)\n",
        "Dictionairy = dict(lists)\n",
        "print (Dictionairy)\n",
        "\n",
        "\n",
        "  "
      ],
      "execution_count": null,
      "outputs": [
        {
          "output_type": "stream",
          "text": [
            "{'MSFT': 'BUY', 'AAPL': 'BUY', 'MMM': 'BUY', 'AXP': 'BUY', 'AMGN': 'SELL', 'BA': 'BUY', 'CAT': 'BUY', 'CVX': 'BUY', 'CSCO': 'BUY', 'KO': 'BUY', 'GS': 'BUY', 'HD': 'SELL', 'HON': 'BUY', 'IBM': 'SELL', 'INTC': 'SELL', 'JNJ': 'SELL', 'JPM': 'BUY', 'MCD': 'SELL', 'MRK': 'SELL', 'NKE': 'BUY', 'PG': 'BUY', 'CRM': 'SELL', 'TRV': 'BUY', 'UNH': 'BUY', 'VZ': 'SELL', 'V': 'BUY', 'WBA': 'BUY', 'WMT': 'BUY', 'DIS': 'BUY'}\n"
          ],
          "name": "stdout"
        }
      ]
    },
    {
      "cell_type": "markdown",
      "metadata": {
        "id": "gMvZ9Utm1ine"
      },
      "source": [
        "# Buy and Sell Actions in a Simulated Protfolio "
      ]
    },
    {
      "cell_type": "code",
      "metadata": {
        "id": "3WWQ4T-DpmPo",
        "colab": {
          "base_uri": "https://localhost:8080/",
          "height": 249
        },
        "outputId": "a55676dc-fecb-4ed3-8387-397a2746c106"
      },
      "source": [
        "data = get_data()\n",
        "signals = mavg_strategy(data)\n",
        "\n",
        "\n",
        "#backtester\n",
        "# Set the initial capital\n",
        "initial_capital= float(100000.0)\n",
        "\n",
        "# Create a DataFrame `positions`\n",
        "positions = pd.DataFrame(index=signals.index).fillna(0.0)\n",
        "\n",
        "# Buy a 100 shares\n",
        "positions['stock'] = 100*signals['signal']   \n",
        "  \n",
        "# Initialize the portfolio with value owned   \n",
        "portfolio = positions.multiply(aapl['Adj Close'], axis=0)\n",
        "\n",
        "# Store the difference in shares owned \n",
        "pos_diff = positions.diff()\n",
        "\n",
        "# Add `holdings` to portfolio\n",
        "portfolio['holdings'] = (positions.multiply(aapl['Adj Close'], axis=0)).sum(axis=1)\n",
        "\n",
        "# Add `cash` to portfolio\n",
        "portfolio['cash'] = base_capital - (pos_diff.multiply(aapl['Adj Close'], axis=0)).sum(axis=1).cumsum()   \n",
        "\n",
        "# Add `total` to portfolio\n",
        "portfolio['total'] = portfolio['cash'] + portfolio['holdings']\n",
        "\n",
        "# Add `returns` to portfolio\n",
        "portfolio['returns'] = portfolio['total'].pct_change()"
      ],
      "execution_count": null,
      "outputs": [
        {
          "output_type": "stream",
          "text": [
            "Please enter your ticker symbol: AAPL\n"
          ],
          "name": "stdout"
        },
        {
          "output_type": "error",
          "ename": "NameError",
          "evalue": "ignored",
          "traceback": [
            "\u001b[0;31m---------------------------------------------------------------------------\u001b[0m",
            "\u001b[0;31mNameError\u001b[0m                                 Traceback (most recent call last)",
            "\u001b[0;32m<ipython-input-4-cb0cbc3edda2>\u001b[0m in \u001b[0;36m<module>\u001b[0;34m()\u001b[0m\n\u001b[1;32m     14\u001b[0m \u001b[0;34m\u001b[0m\u001b[0m\n\u001b[1;32m     15\u001b[0m \u001b[0;31m# Initialize the portfolio with value owned\u001b[0m\u001b[0;34m\u001b[0m\u001b[0;34m\u001b[0m\u001b[0;34m\u001b[0m\u001b[0m\n\u001b[0;32m---> 16\u001b[0;31m \u001b[0mportfolio\u001b[0m \u001b[0;34m=\u001b[0m \u001b[0mpositions\u001b[0m\u001b[0;34m.\u001b[0m\u001b[0mmultiply\u001b[0m\u001b[0;34m(\u001b[0m\u001b[0maapl\u001b[0m\u001b[0;34m[\u001b[0m\u001b[0;34m'Adj Close'\u001b[0m\u001b[0;34m]\u001b[0m\u001b[0;34m,\u001b[0m \u001b[0maxis\u001b[0m\u001b[0;34m=\u001b[0m\u001b[0;36m0\u001b[0m\u001b[0;34m)\u001b[0m\u001b[0;34m\u001b[0m\u001b[0;34m\u001b[0m\u001b[0m\n\u001b[0m\u001b[1;32m     17\u001b[0m \u001b[0;34m\u001b[0m\u001b[0m\n\u001b[1;32m     18\u001b[0m \u001b[0;31m# Store the difference in shares owned\u001b[0m\u001b[0;34m\u001b[0m\u001b[0;34m\u001b[0m\u001b[0;34m\u001b[0m\u001b[0m\n",
            "\u001b[0;31mNameError\u001b[0m: name 'aapl' is not defined"
          ]
        }
      ]
    },
    {
      "cell_type": "code",
      "metadata": {
        "id": "dbHuIBIjphcw",
        "colab": {
          "base_uri": "https://localhost:8080/",
          "height": 232
        },
        "outputId": "d8b9e6dc-f5fb-45ae-8c41-4730679e1dc4"
      },
      "source": [
        "# new code\n",
        "# Set base capital\n",
        "base_capital= float(100000.0)\n",
        "\n",
        "def transaction(stock):\n",
        "    if rating == \"BUY\":\n",
        "      return print (\"Check 1\")\n",
        "    else:\n",
        "      return print (\"Check 2\")\n",
        "\n",
        "transaction(rating)\n",
        "\n",
        "\n"
      ],
      "execution_count": null,
      "outputs": [
        {
          "output_type": "error",
          "ename": "NameError",
          "evalue": "ignored",
          "traceback": [
            "\u001b[0;31m---------------------------------------------------------------------------\u001b[0m",
            "\u001b[0;31mNameError\u001b[0m                                 Traceback (most recent call last)",
            "\u001b[0;32m<ipython-input-1-0f425471ae78>\u001b[0m in \u001b[0;36m<module>\u001b[0;34m()\u001b[0m\n\u001b[1;32m      9\u001b[0m       \u001b[0;32mreturn\u001b[0m \u001b[0mprint\u001b[0m \u001b[0;34m(\u001b[0m\u001b[0;34m\"Check 2\"\u001b[0m\u001b[0;34m)\u001b[0m\u001b[0;34m\u001b[0m\u001b[0;34m\u001b[0m\u001b[0m\n\u001b[1;32m     10\u001b[0m \u001b[0;34m\u001b[0m\u001b[0m\n\u001b[0;32m---> 11\u001b[0;31m \u001b[0mtransaction\u001b[0m\u001b[0;34m(\u001b[0m\u001b[0mrating\u001b[0m\u001b[0;34m)\u001b[0m\u001b[0;34m\u001b[0m\u001b[0;34m\u001b[0m\u001b[0m\n\u001b[0m\u001b[1;32m     12\u001b[0m \u001b[0;34m\u001b[0m\u001b[0m\n\u001b[1;32m     13\u001b[0m \u001b[0;34m\u001b[0m\u001b[0m\n",
            "\u001b[0;31mNameError\u001b[0m: name 'rating' is not defined"
          ]
        }
      ]
    },
    {
      "cell_type": "markdown",
      "metadata": {
        "id": "Kf4oARek12Ax"
      },
      "source": [
        "# Plot Current Portfolio "
      ]
    },
    {
      "cell_type": "code",
      "metadata": {
        "id": "fRAyz6AOpnO1"
      },
      "source": [
        "def plotprtfolio(portfolio):\n",
        "    fig = plt.figure()\n",
        "\n",
        "    ax1 = fig.add_subplot(111, ylabel='Portfolio value in $')\n",
        "\n",
        "    # Plot the equity curve in dollars\n",
        "    portfolio['total'].plot(ax=ax1, lw=2.)\n",
        "\n",
        "    # Plot the \"buy\" trades against the equity curve\n",
        "    ax1.plot(portfolio.loc[signals.positions == 1.0].index, \n",
        "            portfolio.total[signals.positions == 1.0],\n",
        "            '^', markersize=10, color='m')\n",
        "\n",
        "    # Plot the \"sell\" trades against the equity curve\n",
        "    ax1.plot(portfolio.loc[signals.positions == -1.0].index, \n",
        "            portfolio.total[signals.positions == -1.0],\n",
        "            'v', markersize=10, color='k')\n",
        "\n",
        "    # Show the plot\n",
        "    plt.show()"
      ],
      "execution_count": null,
      "outputs": []
    }
  ]
}